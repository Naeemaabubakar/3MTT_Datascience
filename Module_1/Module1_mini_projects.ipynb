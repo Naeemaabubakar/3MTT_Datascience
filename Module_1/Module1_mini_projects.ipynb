{
 "cells": [
  {
   "cell_type": "markdown",
   "metadata": {},
   "source": [
    "# 1. QUIZ GAME"
   ]
  },
  {
   "cell_type": "code",
   "execution_count": 1,
   "metadata": {},
   "outputs": [
    {
     "name": "stdout",
     "output_type": "stream",
     "text": [
      "** Simple Quiz Game **\n",
      "Answer the questions:\n",
      "Correct!\n",
      "Correct!\n",
      "Wrong! The answer is: cat\n",
      "Correct!\n",
      "Wrong! The answer is: 8\n",
      "\n",
      "Your score: 3/5\n"
     ]
    }
   ],
   "source": [
    "# Quiz questions and answers\n",
    "questions = [\n",
    "    {\"question\": \"What is 2+2?\", \"answer\": \"4\"},\n",
    "    {\"question\": \"What is the capital of France?\", \"answer\": \"paris\"},\n",
    "    {\"question\": \"Which animal says 'meow'?\", \"answer\": \"cat\"},\n",
    "    {\"question\": \"What color is the sun?\", \"answer\": \"yellow\"},\n",
    "    {\"question\": \"How many legs does a spider have?\", \"answer\": \"8\"}\n",
    "]\n",
    "\n",
    "score = 0\n",
    "\n",
    "print(\"** Simple Quiz Game **\")\n",
    "print(\"Answer the questions:\")\n",
    "\n",
    "for q in questions:\n",
    "    user_answer = input(q[\"question\"] + \" \").lower().strip()  # Make input lowercase\n",
    "    if user_answer == q[\"answer\"]:\n",
    "        print(\"Correct!\")\n",
    "        score += 1\n",
    "    else:\n",
    "        print(f\"Wrong! The answer is: {q['answer']}\")\n",
    "\n",
    "print(f\"\\nYour score: {score}/5\")"
   ]
  },
  {
   "cell_type": "markdown",
   "metadata": {},
   "source": [
    "# 2. NUMBER SWAPPING"
   ]
  },
  {
   "cell_type": "code",
   "execution_count": 2,
   "metadata": {},
   "outputs": [
    {
     "name": "stdout",
     "output_type": "stream",
     "text": [
      "Enter two numbers to swap:\n",
      "\n",
      "Before swap: First = 6, Second = 8\n",
      "After swap: First = 8, Second = 6\n"
     ]
    }
   ],
   "source": [
    "# Get two numbers from the user\n",
    "print(\"Enter two numbers to swap:\")\n",
    "num1 = input(\"First number: \")\n",
    "num2 = input(\"Second number: \")\n",
    "\n",
    "print(f\"\\nBefore swap: First = {num1}, Second = {num2}\")\n",
    "\n",
    "# Swap using tuple unpacking (Python trick!)\n",
    "num1, num2 = num2, num1\n",
    "\n",
    "print(f\"After swap: First = {num1}, Second = {num2}\")"
   ]
  },
  {
   "cell_type": "markdown",
   "metadata": {},
   "source": [
    "# 3. PRIME/ARMSTRONG/PALINDROME IDENTIFIER"
   ]
  },
  {
   "cell_type": "code",
   "execution_count": 6,
   "metadata": {},
   "outputs": [
    {
     "name": "stdout",
     "output_type": "stream",
     "text": [
      "\n",
      "Results:\n",
      "- Not a Prime, Armstrong, or Palindrome\n"
     ]
    }
   ],
   "source": [
    "# Check if a number is Prime, Armstrong, or Palindrome\n",
    "num = input(\"Enter a number: \")\n",
    "\n",
    "if not num.isdigit():\n",
    "    print(\"Error: Please enter a valid number!\")\n",
    "else:\n",
    "    num = int(num)\n",
    "    num_str = str(num)  # Convert to string for digit operations\n",
    "    \n",
    "    # Check Prime\n",
    "    is_prime = True\n",
    "    if num <= 1:\n",
    "        is_prime = False\n",
    "    else:\n",
    "        for i in range(2, num):\n",
    "            if num % i == 0:\n",
    "                is_prime = False\n",
    "                break\n",
    "    \n",
    "    # Check Armstrong\n",
    "    power = len(num_str)\n",
    "    total = 0\n",
    "    for d in num_str:\n",
    "        total += int(d) ** power\n",
    "    is_armstrong = (total == num)\n",
    "    \n",
    "    # Check Palindrome\n",
    "    is_palindrome = (num_str == num_str[::-1])\n",
    "    \n",
    "    # Print results\n",
    "    print(\"\\nResults:\")\n",
    "    if is_prime:\n",
    "        print(\"- Prime number\")\n",
    "    if is_armstrong:\n",
    "        print(\"- Armstrong number\")\n",
    "    if is_palindrome:\n",
    "        print(\"- Palindrome\")\n",
    "    if not (is_prime or is_armstrong or is_palindrome):\n",
    "        print(\"- Not a Prime, Armstrong, or Palindrome\")"
   ]
  },
  {
   "cell_type": "markdown",
   "metadata": {},
   "source": [
    "# 4. THE FIBONACCI SEQUENCE"
   ]
  },
  {
   "cell_type": "code",
   "execution_count": 3,
   "metadata": {},
   "outputs": [
    {
     "name": "stdout",
     "output_type": "stream",
     "text": [
      "First 10 Fibonacci numbers:\n",
      "0 1 1 2 3 5 8 13 21 34 "
     ]
    }
   ],
   "source": [
    "# Ask user how many numbers they want\n",
    "n = int(input(\"How many Fibonacci numbers do you want? \"))\n",
    "\n",
    "a, b = 0, 1  # Starting numbers\n",
    "\n",
    "print(f\"First {n} Fibonacci numbers:\")\n",
    "for _ in range(n):\n",
    "    print(a, end=\" \")  # Print without newline\n",
    "    a, b = b, a + b   # Update Fibonacci sequence"
   ]
  }
 ],
 "metadata": {
  "kernelspec": {
   "display_name": "base",
   "language": "python",
   "name": "python3"
  },
  "language_info": {
   "codemirror_mode": {
    "name": "ipython",
    "version": 3
   },
   "file_extension": ".py",
   "mimetype": "text/x-python",
   "name": "python",
   "nbconvert_exporter": "python",
   "pygments_lexer": "ipython3",
   "version": "3.11.5"
  }
 },
 "nbformat": 4,
 "nbformat_minor": 2
}
